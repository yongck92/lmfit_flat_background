{
 "cells": [
  {
   "cell_type": "code",
   "execution_count": 58,
   "metadata": {},
   "outputs": [
    {
     "data": {
      "text/plain": [
       "<Figure size 432x288 with 0 Axes>"
      ]
     },
     "metadata": {},
     "output_type": "display_data"
    }
   ],
   "source": [
    "import os\n",
    "import csv\n",
    "import matplotlib.pyplot as plt\n",
    "import pandas as pd\n",
    "import numpy as np\n",
    "from numpy import exp, loadtxt, pi, sqrt\n",
    "import glob\n",
    "import json\n",
    "from lmfit import Model, Parameters, fit_report, minimize, Minimizer\n",
    "from lmfit.models import GaussianModel, LinearModel, ConstantModel\n",
    "os.chdir(r'C:\\Users\\kiat y_c\\Desktop\\Warwick Main\\Year 3\\Synchrotron & Neutron Experiments\\SXRD Experiments\\DIAMOND Round 1\\MG27288\\103423-pilatus2M-files\\103423_ascii') #working directory\n",
    "filenames = glob.glob( '*dat' ) #use the .dat file that I have sent you\n",
    "\n",
    "#function\n",
    "for filename in filenames:\n",
    "    data = loadtxt(filename)\n",
    "    x = data[:, 0]\n",
    "    y = data[:, 1]\n",
    "    \n",
    "    define_mod = GaussianModel (prefix='g1_')\n",
    "    line_mod = ConstantModel (prefix='line_')\n",
    "       \n",
    "    pars = define_mod.guess(y, x=x)\n",
    "    pars += line_mod.guess (y, x=x)\n",
    "    \n",
    "    mod = define_mod + line_mod\n",
    "    \n",
    "    out = mod.fit(y, pars, x=x)    \n",
    " \n",
    "    #writing the output to a csv file     \n",
    "    #with open('report_'+filename+'.txt','w') as f:\n",
    "        #f.write(out.fit_report(min_correl=0.25))\n",
    "        \n",
    "    #plotting the graph\n",
    "    plt.plot(x, y, '.')\n",
    "    plt.plot(x, out.best_fit, 'r', label='Best fit')\n",
    "    \n",
    "    comps = out.eval_components()\n",
    "    plt.plot(x, comps['g1_'], 'b--', label='Gaussian component')\n",
    "    plt.axhline(comps ['line_'], label='Line component')\n",
    "    plt.legend(loc='best')\n",
    "    plt.savefig('figure_'+filename+'.jpg')\n",
    "    plt.clf()\n",
    "    \n",
    "    y = json.loads(out.params.dumps())\n",
    "    \n",
    "    x = pd.DataFrame(y['params'])\n",
    "    \n",
    "    x.columns = ['Attribute','Value','C','D','E','F','G','Error','I','J','K']\n",
    "    \n",
    "    x = x.drop(columns = ['C','D','E','F','G','I','J','K'])\n",
    "    \n",
    "    x_transposed = x.T\n",
    "    \n",
    "    x_transposed = x_transposed.drop(x_transposed.index[0])\n",
    "    \n",
    "    df = x_transposed\n",
    "    df2 = df.join(df.shift(-1).add_prefix('Error_'))\n",
    "    df2 = df2.drop(['Error'])\n",
    "\n",
    "    df2.to_csv(filename+'.csv')"
   ]
  },
  {
   "cell_type": "code",
   "execution_count": 56,
   "metadata": {},
   "outputs": [
    {
     "data": {
      "text/html": [
       "<div>\n",
       "<style scoped>\n",
       "    .dataframe tbody tr th:only-of-type {\n",
       "        vertical-align: middle;\n",
       "    }\n",
       "\n",
       "    .dataframe tbody tr th {\n",
       "        vertical-align: top;\n",
       "    }\n",
       "\n",
       "    .dataframe thead th {\n",
       "        text-align: right;\n",
       "    }\n",
       "</style>\n",
       "<table border=\"1\" class=\"dataframe\">\n",
       "  <thead>\n",
       "    <tr style=\"text-align: right;\">\n",
       "      <th></th>\n",
       "      <th>Attribute</th>\n",
       "      <th>Value</th>\n",
       "      <th>Error</th>\n",
       "    </tr>\n",
       "  </thead>\n",
       "  <tbody>\n",
       "    <tr>\n",
       "      <th>0</th>\n",
       "      <td>g1_amplitude</td>\n",
       "      <td>0.000468</td>\n",
       "      <td>0.000041</td>\n",
       "    </tr>\n",
       "    <tr>\n",
       "      <th>1</th>\n",
       "      <td>g1_center</td>\n",
       "      <td>5.719329</td>\n",
       "      <td>0.000364</td>\n",
       "    </tr>\n",
       "    <tr>\n",
       "      <th>2</th>\n",
       "      <td>g1_sigma</td>\n",
       "      <td>0.003787</td>\n",
       "      <td>0.000370</td>\n",
       "    </tr>\n",
       "    <tr>\n",
       "      <th>3</th>\n",
       "      <td>g1_fwhm</td>\n",
       "      <td>0.008918</td>\n",
       "      <td>0.000872</td>\n",
       "    </tr>\n",
       "    <tr>\n",
       "      <th>4</th>\n",
       "      <td>g1_height</td>\n",
       "      <td>0.049261</td>\n",
       "      <td>0.004120</td>\n",
       "    </tr>\n",
       "    <tr>\n",
       "      <th>5</th>\n",
       "      <td>line_c</td>\n",
       "      <td>0.070688</td>\n",
       "      <td>0.000646</td>\n",
       "    </tr>\n",
       "  </tbody>\n",
       "</table>\n",
       "</div>"
      ],
      "text/plain": [
       "      Attribute     Value     Error\n",
       "0  g1_amplitude  0.000468  0.000041\n",
       "1     g1_center  5.719329  0.000364\n",
       "2      g1_sigma  0.003787  0.000370\n",
       "3       g1_fwhm  0.008918  0.000872\n",
       "4     g1_height  0.049261  0.004120\n",
       "5        line_c  0.070688  0.000646"
      ]
     },
     "execution_count": 56,
     "metadata": {},
     "output_type": "execute_result"
    }
   ],
   "source": [
    "x"
   ]
  },
  {
   "cell_type": "code",
   "execution_count": null,
   "metadata": {},
   "outputs": [],
   "source": []
  }
 ],
 "metadata": {
  "kernelspec": {
   "display_name": "Python 3",
   "language": "python",
   "name": "python3"
  },
  "language_info": {
   "codemirror_mode": {
    "name": "ipython",
    "version": 3
   },
   "file_extension": ".py",
   "mimetype": "text/x-python",
   "name": "python",
   "nbconvert_exporter": "python",
   "pygments_lexer": "ipython3",
   "version": "3.7.6"
  }
 },
 "nbformat": 4,
 "nbformat_minor": 4
}
